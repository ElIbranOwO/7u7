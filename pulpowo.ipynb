{
 "cells": [
  {
   "cell_type": "markdown",
   "metadata": {},
   "source": [
    "## Pulp\n",
    "Este es un ejemplo de la biblioteca Pulp.\n",
    "El problema es maximizar $2x+y$, sujeto a las restricciones: \n",
    "$4x+y\\leq 150$, \n",
    "$2x-3y \\leq -40$,\n",
    "$x,y\\geq 0$."
   ]
  },
  {
   "cell_type": "code",
   "execution_count": 7,
   "metadata": {},
   "outputs": [],
   "source": [
    "from pulp import * \n",
    "x = LpVariable(\"x\",0)\n",
    "y = LpVariable(\"y\",0)\n",
    "z = LpVariable(\"z\",0)\n",
    "prob = LpProblem(\"Ejemplo\",LpMaximize)\n",
    "prob += 4*x+y <= 150\n",
    "prob += 2*x-3*y <= -40\n",
    "prob += 2*x+y"
   ]
  },
  {
   "cell_type": "code",
   "execution_count": 8,
   "metadata": {},
   "outputs": [
    {
     "data": {
      "text/plain": [
       "Ejemplo:\n",
       "MAXIMIZE\n",
       "2*x + 1*y + 0\n",
       "SUBJECT TO\n",
       "_C1: 4 x + y <= 150\n",
       "\n",
       "_C2: 2 x - 3 y <= -40\n",
       "\n",
       "VARIABLES\n",
       "x Continuous\n",
       "y Continuous"
      ]
     },
     "execution_count": 8,
     "metadata": {},
     "output_type": "execute_result"
    }
   ],
   "source": [
    "prob"
   ]
  },
  {
   "cell_type": "code",
   "execution_count": 10,
   "metadata": {},
   "outputs": [
    {
     "data": {
      "text/plain": [
       "(0.0, 150.0)"
      ]
     },
     "execution_count": 10,
     "metadata": {},
     "output_type": "execute_result"
    }
   ],
   "source": [
    "status = prob.solve()\n",
    "value(x),value(y)"
   ]
  },
  {
   "cell_type": "code",
   "execution_count": 12,
   "metadata": {},
   "outputs": [
    {
     "data": {
      "text/plain": [
       "(150.0, 'Optimal')"
      ]
     },
     "execution_count": 12,
     "metadata": {},
     "output_type": "execute_result"
    }
   ],
   "source": [
    "value(prob.objective),LpStatus[prob.status]"
   ]
  },
  {
   "cell_type": "code",
   "execution_count": 14,
   "metadata": {},
   "outputs": [],
   "source": [
    "x = LpVariable(\"Zanahoria\",.005)\n",
    "y = LpVariable(\"Col\",0.015)\n",
    "z = LpVariable(\"Pepinillos\",0.4)\n",
    "ejer = LpProblem(\"Ejercicio1\",LpMinimize)\n",
    "ejer += 35*x+.5*y+.5*z >= 0.5\n",
    "ejer += 60*x+300*y+10*z >= 15\n",
    "ejer += 30*x+20*y+10*z >= 4\n",
    "ejer += 0.75*x+0.5*y+0.15*z"
   ]
  },
  {
   "cell_type": "code",
   "execution_count": 15,
   "metadata": {},
   "outputs": [
    {
     "data": {
      "text/plain": [
       "Ejercicio1:\n",
       "MINIMIZE\n",
       "0.5*Col + 0.15*Pepinillos + 0.75*Zanahoria + 0.0\n",
       "SUBJECT TO\n",
       "_C1: 0.5 Col + 0.5 Pepinillos + 35 Zanahoria >= 0.5\n",
       "\n",
       "_C2: 300 Col + 10 Pepinillos + 60 Zanahoria >= 15\n",
       "\n",
       "_C3: 20 Col + 10 Pepinillos + 30 Zanahoria >= 4\n",
       "\n",
       "VARIABLES\n",
       "0.015 <= Col Continuous\n",
       "0.4 <= Pepinillos Continuous\n",
       "0.005 <= Zanahoria Continuous"
      ]
     },
     "execution_count": 15,
     "metadata": {},
     "output_type": "execute_result"
    }
   ],
   "source": [
    "ejer"
   ]
  },
  {
   "cell_type": "code",
   "execution_count": 16,
   "metadata": {},
   "outputs": [
    {
     "data": {
      "text/plain": [
       "(0.0080706781, 0.035052531, 0.4)"
      ]
     },
     "execution_count": 16,
     "metadata": {},
     "output_type": "execute_result"
    }
   ],
   "source": [
    "status = ejer.solve()\n",
    "value(x),value(y),value(z)"
   ]
  },
  {
   "cell_type": "code",
   "execution_count": 17,
   "metadata": {},
   "outputs": [
    {
     "data": {
      "text/plain": [
       "(0.08357927407499999, 'Optimal')"
      ]
     },
     "execution_count": 17,
     "metadata": {},
     "output_type": "execute_result"
    }
   ],
   "source": [
    "value(ejer.objective),LpStatus[ejer.status]"
   ]
  },
  {
   "cell_type": "code",
   "execution_count": 29,
   "metadata": {},
   "outputs": [],
   "source": [
    "x = LpVariable(\"x\",0)\n",
    "y = LpVariable(\"y\",0)\n",
    "ejer2 = LpProblem(\"Ejer2\",LpMaximize)\n",
    "ejer2 += 2*x+y <= 4\n",
    "ejer2 += -x-2*y >= -5\n",
    "ejer2 += 2*x+2*y"
   ]
  },
  {
   "cell_type": "code",
   "execution_count": 30,
   "metadata": {},
   "outputs": [
    {
     "data": {
      "text/plain": [
       "Ejer2:\n",
       "MAXIMIZE\n",
       "2*x + 2*y + 0\n",
       "SUBJECT TO\n",
       "_C1: 2 x + y <= 4\n",
       "\n",
       "_C2: - x - 2 y >= -5\n",
       "\n",
       "VARIABLES\n",
       "x Continuous\n",
       "y Continuous"
      ]
     },
     "execution_count": 30,
     "metadata": {},
     "output_type": "execute_result"
    }
   ],
   "source": [
    "ejer2"
   ]
  },
  {
   "cell_type": "code",
   "execution_count": 31,
   "metadata": {},
   "outputs": [
    {
     "data": {
      "text/plain": [
       "(1.0, 2.0)"
      ]
     },
     "execution_count": 31,
     "metadata": {},
     "output_type": "execute_result"
    }
   ],
   "source": [
    "status = ejer2.solve()\n",
    "value(x),value(y)"
   ]
  },
  {
   "cell_type": "code",
   "execution_count": 32,
   "metadata": {},
   "outputs": [],
   "source": [
    "x = LpVariable(\"x\",0)\n",
    "y = LpVariable(\"y\",0)\n",
    "ejer3 = LpProblem(\"Ejer3\",LpMinimize)\n",
    "ejer3 += 3*x+y <= 7\n",
    "ejer3 += -x-y >= -3\n",
    "ejer3 += -x-2*y >= -5\n",
    "ejer3 += -5*x-y"
   ]
  },
  {
   "cell_type": "code",
   "execution_count": 33,
   "metadata": {},
   "outputs": [
    {
     "data": {
      "text/plain": [
       "Ejer3:\n",
       "MINIMIZE\n",
       "-5*x + -1*y + 0\n",
       "SUBJECT TO\n",
       "_C1: 3 x + y <= 7\n",
       "\n",
       "_C2: - x - y >= -3\n",
       "\n",
       "_C3: - x - 2 y >= -5\n",
       "\n",
       "VARIABLES\n",
       "x Continuous\n",
       "y Continuous"
      ]
     },
     "execution_count": 33,
     "metadata": {},
     "output_type": "execute_result"
    }
   ],
   "source": [
    "ejer3"
   ]
  },
  {
   "cell_type": "code",
   "execution_count": 34,
   "metadata": {},
   "outputs": [
    {
     "data": {
      "text/plain": [
       "(2.3333333, 0.0)"
      ]
     },
     "execution_count": 34,
     "metadata": {},
     "output_type": "execute_result"
    }
   ],
   "source": [
    "status = ejer3.solve()\n",
    "value(x),value(y)"
   ]
  },
  {
   "cell_type": "code",
   "execution_count": 47,
   "metadata": {},
   "outputs": [],
   "source": [
    "x = LpVariable(\"x\",0)\n",
    "y = LpVariable(\"y\",0)\n",
    "ejer4 = LpProblem(\"Ejer4\",LpMinimize)\n",
    "ejer4 += x+y <= 7\n",
    "ejer4 += x+y >= 5\n",
    "ejer4 += x <= 4\n",
    "ejer4 += y <= 4\n",
    "ejer4 += x+4*y"
   ]
  },
  {
   "cell_type": "code",
   "execution_count": 48,
   "metadata": {},
   "outputs": [
    {
     "data": {
      "text/plain": [
       "Ejer4:\n",
       "MINIMIZE\n",
       "1*x + 4*y + 0\n",
       "SUBJECT TO\n",
       "_C1: x + y <= 7\n",
       "\n",
       "_C2: x + y >= 5\n",
       "\n",
       "_C3: x <= 4\n",
       "\n",
       "_C4: y <= 4\n",
       "\n",
       "VARIABLES\n",
       "x Continuous\n",
       "y Continuous"
      ]
     },
     "execution_count": 48,
     "metadata": {},
     "output_type": "execute_result"
    }
   ],
   "source": [
    "ejer4"
   ]
  },
  {
   "cell_type": "code",
   "execution_count": 49,
   "metadata": {},
   "outputs": [
    {
     "data": {
      "text/plain": [
       "(4.0, 1.0)"
      ]
     },
     "execution_count": 49,
     "metadata": {},
     "output_type": "execute_result"
    }
   ],
   "source": [
    "status = ejer4.solve()\n",
    "value(x),value(y)"
   ]
  },
  {
   "cell_type": "code",
   "execution_count": 51,
   "metadata": {},
   "outputs": [],
   "source": [
    "x = LpVariable(\"x\",0)\n",
    "y = LpVariable(\"y\",0)\n",
    "ejer5 = LpProblem(\"Ejer5\",LpMaximize)\n",
    "ejer5 += -x+y <= 2\n",
    "ejer5 += y <= 4\n",
    "ejer5 += 3*x+4*y"
   ]
  },
  {
   "cell_type": "code",
   "execution_count": 53,
   "metadata": {},
   "outputs": [
    {
     "data": {
      "text/plain": [
       "Ejer5:\n",
       "MAXIMIZE\n",
       "3*x + 4*y + 0\n",
       "SUBJECT TO\n",
       "_C1: - x + y <= 2\n",
       "\n",
       "_C2: y <= 4\n",
       "\n",
       "VARIABLES\n",
       "x Continuous\n",
       "y Continuous"
      ]
     },
     "execution_count": 53,
     "metadata": {},
     "output_type": "execute_result"
    }
   ],
   "source": [
    "ejer5"
   ]
  },
  {
   "cell_type": "code",
   "execution_count": 54,
   "metadata": {},
   "outputs": [
    {
     "data": {
      "text/plain": [
       "(2.0, 4.0)"
      ]
     },
     "execution_count": 54,
     "metadata": {},
     "output_type": "execute_result"
    }
   ],
   "source": [
    "status = ejer5.solve()\n",
    "value(x),value(y)"
   ]
  },
  {
   "cell_type": "code",
   "execution_count": 55,
   "metadata": {},
   "outputs": [
    {
     "data": {
      "text/plain": [
       "(22.0, 'Unbounded')"
      ]
     },
     "execution_count": 55,
     "metadata": {},
     "output_type": "execute_result"
    }
   ],
   "source": [
    "value(ejer5.objective),LpStatus[ejer5.status]"
   ]
  },
  {
   "cell_type": "code",
   "execution_count": 65,
   "metadata": {},
   "outputs": [],
   "source": [
    "x = LpVariable(\"x\",0)\n",
    "y = LpVariable(\"y\",0)\n",
    "ejer6 = LpProblem(\"Ejer6\",LpMaximize)\n",
    "ejer6 += -x+y <= 2\n",
    "ejer6 += y <= 4\n",
    "ejer6 += -3*x+y"
   ]
  },
  {
   "cell_type": "code",
   "execution_count": 66,
   "metadata": {},
   "outputs": [
    {
     "data": {
      "text/plain": [
       "Ejer6:\n",
       "MAXIMIZE\n",
       "-3*x + 1*y + 0\n",
       "SUBJECT TO\n",
       "_C1: - x + y <= 2\n",
       "\n",
       "_C2: y <= 4\n",
       "\n",
       "VARIABLES\n",
       "x Continuous\n",
       "y Continuous"
      ]
     },
     "execution_count": 66,
     "metadata": {},
     "output_type": "execute_result"
    }
   ],
   "source": [
    "ejer6"
   ]
  },
  {
   "cell_type": "code",
   "execution_count": 67,
   "metadata": {},
   "outputs": [
    {
     "data": {
      "text/plain": [
       "(0.0, 2.0)"
      ]
     },
     "execution_count": 67,
     "metadata": {},
     "output_type": "execute_result"
    }
   ],
   "source": [
    "status = ejer6.solve()\n",
    "value(x),value(y)"
   ]
  },
  {
   "cell_type": "code",
   "execution_count": 68,
   "metadata": {},
   "outputs": [
    {
     "data": {
      "text/plain": [
       "(2.0, 'Optimal')"
      ]
     },
     "execution_count": 68,
     "metadata": {},
     "output_type": "execute_result"
    }
   ],
   "source": [
    "value(ejer6.objective),LpStatus[ejer6.status]"
   ]
  },
  {
   "cell_type": "code",
   "execution_count": 69,
   "metadata": {},
   "outputs": [],
   "source": [
    "x = LpVariable(\"x\",0)\n",
    "y = LpVariable(\"y\",0)\n",
    "ejer7 = LpProblem(\"Ejer7\",LpMaximize)\n",
    "ejer7 += x+2*y <= 2\n",
    "ejer7 += -x-y <= -3\n",
    "ejer7 += x-2*y"
   ]
  },
  {
   "cell_type": "code",
   "execution_count": 70,
   "metadata": {},
   "outputs": [
    {
     "data": {
      "text/plain": [
       "Ejer7:\n",
       "MAXIMIZE\n",
       "1*x + -2*y + 0\n",
       "SUBJECT TO\n",
       "_C1: x + 2 y <= 2\n",
       "\n",
       "_C2: - x - y <= -3\n",
       "\n",
       "VARIABLES\n",
       "x Continuous\n",
       "y Continuous"
      ]
     },
     "execution_count": 70,
     "metadata": {},
     "output_type": "execute_result"
    }
   ],
   "source": [
    "ejer7"
   ]
  },
  {
   "cell_type": "code",
   "execution_count": 73,
   "metadata": {},
   "outputs": [
    {
     "data": {
      "text/plain": [
       "(3.0, 0.0)"
      ]
     },
     "execution_count": 73,
     "metadata": {},
     "output_type": "execute_result"
    }
   ],
   "source": [
    "status = ejer7.solve()\n",
    "value(x),value(y)"
   ]
  },
  {
   "cell_type": "code",
   "execution_count": 75,
   "metadata": {},
   "outputs": [
    {
     "data": {
      "text/plain": [
       "(3.0, 'Infeasible')"
      ]
     },
     "execution_count": 75,
     "metadata": {},
     "output_type": "execute_result"
    }
   ],
   "source": [
    "value(ejer7.objective),LpStatus[ejer7.status]"
   ]
  },
  {
   "cell_type": "code",
   "execution_count": null,
   "metadata": {},
   "outputs": [],
   "source": []
  }
 ],
 "metadata": {
  "kernelspec": {
   "display_name": "Python 3",
   "language": "python",
   "name": "python3"
  },
  "language_info": {
   "codemirror_mode": {
    "name": "ipython",
    "version": 3
   },
   "file_extension": ".py",
   "mimetype": "text/x-python",
   "name": "python",
   "nbconvert_exporter": "python",
   "pygments_lexer": "ipython3",
   "version": "3.7.0"
  }
 },
 "nbformat": 4,
 "nbformat_minor": 2
}
